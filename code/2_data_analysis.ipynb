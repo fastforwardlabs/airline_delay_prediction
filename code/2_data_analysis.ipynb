{
 "cells": [
  {
   "cell_type": "markdown",
   "metadata": {},
   "source": [
    "# Part 2 - Data Analysis\n",
    "\n",
    "For this project, the requirement is to use the flights dataset to predict if a particular flight in the future will be cancelled. This first notebook is used to explore the data.\n",
    "\n",
    "**NOTE -** This notebook will only execute if you have run the project with `STORAGE_MODE == external` and if you have _EnvironmentUser_ and _DEUser_ roles assigned to your account.\n"
   ]
  },
  {
   "cell_type": "code",
   "execution_count": 1,
   "metadata": {
    "scrolled": false
   },
   "outputs": [],
   "source": [
    "import numpy as np\n",
    "import matplotlib.pyplot as plt\n",
    "import seaborn as sns\n",
    "import os\n",
    "\n",
    "from pyspark.sql import SparkSession\n",
    "from pyspark.sql.types import *\n",
    "from pyspark.sql.functions import *"
   ]
  },
  {
   "cell_type": "markdown",
   "metadata": {},
   "source": [
    "## Create the Spark session\n",
    "Connect to spark using the standard Spark Session connector. I've put the connection parameters into each file directly they change depending on the type of job that is running. You should adjust the following for your specific Spark environment.\n",
    "\n",
    "+ `spark.executor.memory`\n",
    "+ `spark.executor.cores`\n",
    "+ `spark.driver.memory` \n",
    "\n",
    "Spark will use the default `master` setting when connecting to the resource manager. With Cloudera CML, this will be Spark on Kubernetes. If you are working on you local machine for testing, add `.master(\"local[*]\")\\` before `.getOrCreate()`     \n",
    "\n",
    "The next on is specific to the Cloudera CML setup:\n",
    "\n",
    "`spark.yarn.access.hadoopFileSystems s3a://[s3 bucket location]`"
   ]
  },
  {
   "cell_type": "code",
   "execution_count": 2,
   "metadata": {
    "scrolled": false
   },
   "outputs": [],
   "source": [
    "storage = os.getenv(\"STORAGE\")\n",
    "\n",
    "spark = (\n",
    "    SparkSession.builder.appName(\"Airline Data Exploration\")\n",
    "    .config(\"spark.executor.memory\", \"8g\")\n",
    "    .config(\"spark.executor.cores\", \"4\")\n",
    "    .config(\"spark.driver.memory\", \"6g\")\n",
    "    .config(\"spark.yarn.access.hadoopFileSystems\", storage)\n",
    "    .getOrCreate()\n",
    ")"
   ]
  },
  {
   "cell_type": "markdown",
   "metadata": {},
   "source": [
    "## Load the Spark UI\n",
    "This creates a link the Spark UI. If you are running locally, just run `spark` as a command in a cell and it will provide you with the Spark UI link."
   ]
  },
  {
   "cell_type": "code",
   "execution_count": 3,
   "metadata": {
    "scrolled": false
   },
   "outputs": [
    {
     "data": {
      "text/html": [
       "<a href=\"http://spark-l7bwcvshm1hbts52.ml-d473824f-9dd.se-sandb.a465-9q4k.cloudera.site\" target=\"_blank\">Spark UI</a>"
      ],
      "text/plain": [
       "<IPython.core.display.HTML object>"
      ]
     },
     "execution_count": 3,
     "metadata": {},
     "output_type": "execute_result"
    }
   ],
   "source": [
    "from IPython.core.display import HTML\n",
    "\n",
    "HTML(\n",
    "    '<a href=\"http://spark-{}.{}\" target=\"_blank\">Spark UI</a>'.format(\n",
    "        os.getenv(\"CDSW_ENGINE_ID\"), os.getenv(\"CDSW_DOMAIN\")\n",
    "    )\n",
    ")"
   ]
  },
  {
   "cell_type": "markdown",
   "metadata": {},
   "source": [
    "## Import the data\n",
    "This file was downloaded from [Kaggle](https://www.kaggle.com/yuanyuwendymu/airline-delay-and-cancellation-data-2009-2018) as a CSV and upload to S3. Since we know the schema already, we can make it correct by defining the schema for the import rather than relying on inferSchema. Its also faster! \n",
    "\n",
    "_Note: If you are working in local mode, you should limit the number of rows that are returned._\n",
    "\n",
    "> _HANDY TIP_\n",
    "> \n",
    "> Use `.persist()` on a data frame that you are work a lot with to prevent Spark from fetching the data everytime you run query. It will store that dataframe in memory and all operations on that dataframe will run on the in-memory version."
   ]
  },
  {
   "cell_type": "code",
   "execution_count": 4,
   "metadata": {
    "scrolled": false
   },
   "outputs": [
    {
     "data": {
      "text/plain": [
       "DataFrame[FL_DATE: date, DEP_TIME: string, CRS_DEP_TIME: string, ARR_TIME: string, CRS_ARR_TIME: string, OP_CARRIER: string, OP_CARRIER_FL_NUM: string, ACTUAL_ELAPSED_TIME: double, CRS_ELAPSED_TIME: double, AIR_TIME: double, ARR_DELAY: double, DEP_DELAY: double, ORIGIN: string, DEST: string, DISTANCE: double, TAXI_IN: double, TAXI_OUT: double, CANCELLED: double, CANCELLATION_CODE: string, DIVERTED: double, CARRIER_DELAY: double, WEATHER_DELAY: double, NAS_DELAY: double, SECURITY_DELAY: double, LATE_AIRCRAFT_DELAY: double]"
      ]
     },
     "execution_count": 4,
     "metadata": {},
     "output_type": "execute_result"
    }
   ],
   "source": [
    "# specify the hive table our data was ingested to (you may need to edit this)\n",
    "hive_database = os.environ[\"HIVE_DATABASE\"]\n",
    "hive_table = os.environ[\"HIVE_TABLE\"]\n",
    "hive_table_fq = hive_database + \".\" + hive_table\n",
    "\n",
    "flight_df = spark.sql(f\"select * from {hive_table_fq}\")\n",
    "\n",
    "# Uncomment this if you are running in local mode and just want to see things work\n",
    "# flight_df = flight_df.limit(10000)\n",
    "\n",
    "flight_df.persist()"
   ]
  },
  {
   "cell_type": "markdown",
   "metadata": {},
   "source": [
    "## Cancelled Flights by Carrier\n",
    "The first bit of data exploration is to check the flight cancellations by carrier. This is best done by showing which carrier has the highet percentage of cancelled flights rather than the total number of cancelled flights. \n",
    "\n",
    "Concepts introduced in this section:\n",
    "+ `filter()`,`groupby` etc.\n",
    "+ `withColumn` and `withColumnRenamed`\n",
    "+ `toPandas()`"
   ]
  },
  {
   "cell_type": "code",
   "execution_count": 5,
   "metadata": {},
   "outputs": [
    {
     "name": "stdout",
     "output_type": "stream",
     "text": [
      "root\n",
      " |-- FL_DATE: date (nullable = true)\n",
      " |-- DEP_TIME: string (nullable = true)\n",
      " |-- CRS_DEP_TIME: string (nullable = true)\n",
      " |-- ARR_TIME: string (nullable = true)\n",
      " |-- CRS_ARR_TIME: string (nullable = true)\n",
      " |-- OP_CARRIER: string (nullable = true)\n",
      " |-- OP_CARRIER_FL_NUM: string (nullable = true)\n",
      " |-- ACTUAL_ELAPSED_TIME: double (nullable = true)\n",
      " |-- CRS_ELAPSED_TIME: double (nullable = true)\n",
      " |-- AIR_TIME: double (nullable = true)\n",
      " |-- ARR_DELAY: double (nullable = true)\n",
      " |-- DEP_DELAY: double (nullable = true)\n",
      " |-- ORIGIN: string (nullable = true)\n",
      " |-- DEST: string (nullable = true)\n",
      " |-- DISTANCE: double (nullable = true)\n",
      " |-- TAXI_IN: double (nullable = true)\n",
      " |-- TAXI_OUT: double (nullable = true)\n",
      " |-- CANCELLED: double (nullable = true)\n",
      " |-- CANCELLATION_CODE: string (nullable = true)\n",
      " |-- DIVERTED: double (nullable = true)\n",
      " |-- CARRIER_DELAY: double (nullable = true)\n",
      " |-- WEATHER_DELAY: double (nullable = true)\n",
      " |-- NAS_DELAY: double (nullable = true)\n",
      " |-- SECURITY_DELAY: double (nullable = true)\n",
      " |-- LATE_AIRCRAFT_DELAY: double (nullable = true)\n",
      "\n"
     ]
    }
   ],
   "source": [
    "flight_df.printSchema()"
   ]
  },
  {
   "cell_type": "code",
   "execution_count": 6,
   "metadata": {
    "scrolled": false
   },
   "outputs": [
    {
     "data": {
      "text/html": [
       "<div>\n",
       "<style scoped>\n",
       "    .dataframe tbody tr th:only-of-type {\n",
       "        vertical-align: middle;\n",
       "    }\n",
       "\n",
       "    .dataframe tbody tr th {\n",
       "        vertical-align: top;\n",
       "    }\n",
       "\n",
       "    .dataframe thead th {\n",
       "        text-align: right;\n",
       "    }\n",
       "</style>\n",
       "<table border=\"1\" class=\"dataframe\">\n",
       "  <thead>\n",
       "    <tr style=\"text-align: right;\">\n",
       "      <th></th>\n",
       "      <th>OP_CARRIER</th>\n",
       "      <th>count_total</th>\n",
       "      <th>OP_CARRIER</th>\n",
       "      <th>count_delays</th>\n",
       "      <th>delay_percent</th>\n",
       "    </tr>\n",
       "  </thead>\n",
       "  <tbody>\n",
       "    <tr>\n",
       "      <td>0</td>\n",
       "      <td>MQ</td>\n",
       "      <td>7171155</td>\n",
       "      <td>MQ</td>\n",
       "      <td>271171</td>\n",
       "      <td>3.781413</td>\n",
       "    </tr>\n",
       "    <tr>\n",
       "      <td>1</td>\n",
       "      <td>OH</td>\n",
       "      <td>2041236</td>\n",
       "      <td>OH</td>\n",
       "      <td>69797</td>\n",
       "      <td>3.419350</td>\n",
       "    </tr>\n",
       "    <tr>\n",
       "      <td>2</td>\n",
       "      <td>DH</td>\n",
       "      <td>693047</td>\n",
       "      <td>DH</td>\n",
       "      <td>22176</td>\n",
       "      <td>3.199783</td>\n",
       "    </tr>\n",
       "    <tr>\n",
       "      <td>3</td>\n",
       "      <td>YX</td>\n",
       "      <td>316090</td>\n",
       "      <td>YX</td>\n",
       "      <td>10100</td>\n",
       "      <td>3.195292</td>\n",
       "    </tr>\n",
       "    <tr>\n",
       "      <td>4</td>\n",
       "      <td>EV</td>\n",
       "      <td>6423617</td>\n",
       "      <td>EV</td>\n",
       "      <td>185718</td>\n",
       "      <td>2.891175</td>\n",
       "    </tr>\n",
       "    <tr>\n",
       "      <td>5</td>\n",
       "      <td>YV</td>\n",
       "      <td>1917614</td>\n",
       "      <td>YV</td>\n",
       "      <td>52790</td>\n",
       "      <td>2.752900</td>\n",
       "    </tr>\n",
       "    <tr>\n",
       "      <td>6</td>\n",
       "      <td>9E</td>\n",
       "      <td>1587310</td>\n",
       "      <td>9E</td>\n",
       "      <td>40836</td>\n",
       "      <td>2.572654</td>\n",
       "    </tr>\n",
       "    <tr>\n",
       "      <td>7</td>\n",
       "      <td>NW</td>\n",
       "      <td>7239027</td>\n",
       "      <td>NW</td>\n",
       "      <td>178298</td>\n",
       "      <td>2.463011</td>\n",
       "    </tr>\n",
       "    <tr>\n",
       "      <td>8</td>\n",
       "      <td>TW</td>\n",
       "      <td>1890420</td>\n",
       "      <td>TW</td>\n",
       "      <td>45943</td>\n",
       "      <td>2.430306</td>\n",
       "    </tr>\n",
       "    <tr>\n",
       "      <td>9</td>\n",
       "      <td>XE</td>\n",
       "      <td>3456173</td>\n",
       "      <td>XE</td>\n",
       "      <td>79586</td>\n",
       "      <td>2.302720</td>\n",
       "    </tr>\n",
       "  </tbody>\n",
       "</table>\n",
       "</div>"
      ],
      "text/plain": [
       "  OP_CARRIER  count_total OP_CARRIER  count_delays  delay_percent\n",
       "0         MQ      7171155         MQ        271171       3.781413\n",
       "1         OH      2041236         OH         69797       3.419350\n",
       "2         DH       693047         DH         22176       3.199783\n",
       "3         YX       316090         YX         10100       3.195292\n",
       "4         EV      6423617         EV        185718       2.891175\n",
       "5         YV      1917614         YV         52790       2.752900\n",
       "6         9E      1587310         9E         40836       2.572654\n",
       "7         NW      7239027         NW        178298       2.463011\n",
       "8         TW      1890420         TW         45943       2.430306\n",
       "9         XE      3456173         XE         79586       2.302720"
      ]
     },
     "execution_count": 6,
     "metadata": {},
     "output_type": "execute_result"
    }
   ],
   "source": [
    "cancel_by_carrier = flight_df\\\n",
    "  .filter(\"CANCELLED == 1\")\\\n",
    "  .groupby(\"OP_CARRIER\")\\\n",
    "  .count()\\\n",
    "  .sort(\"count\",ascending=False)\\\n",
    "  .withColumnRenamed('count', 'count_delays')\n",
    "\n",
    "  \n",
    "flight_by_carrier = flight_df\\\n",
    "  .groupby(\"OP_CARRIER\")\\\n",
    "  .count()\\\n",
    "  .sort(\"count\",ascending=False)\\\n",
    "  .withColumnRenamed('count', 'count_total')\n",
    "\n",
    "  \n",
    "cancel_by_carrier_percent = flight_by_carrier\\\n",
    "  .join(\n",
    "    cancel_by_carrier, \n",
    "    flight_by_carrier.OP_CARRIER == cancel_by_carrier.OP_CARRIER\n",
    "  )\n",
    "  \n",
    "cancel_by_carrier_percent = cancel_by_carrier_percent\\\n",
    "  .withColumn(\n",
    "    \"delay_percent\",(\n",
    "      cancel_by_carrier_percent.count_delays/cancel_by_carrier_percent.count_total\n",
    "    )*100\n",
    "  )\\\n",
    "  .sort(\"delay_percent\",ascending=False)\\\n",
    "  .toPandas()\n",
    "\n",
    "cancel_by_carrier_percent.head(10)"
   ]
  },
  {
   "cell_type": "markdown",
   "metadata": {},
   "source": [
    "# Cancelled flights by Year\n",
    "This is not necessarily useful as a predictive metric, but it is still interesting."
   ]
  },
  {
   "cell_type": "code",
   "execution_count": 7,
   "metadata": {
    "scrolled": false
   },
   "outputs": [],
   "source": [
    "flight_by_year = flight_df\\\n",
    "  .withColumn('year', year('FL_DATE'))\\\n",
    "  .groupby(\"year\")\\\n",
    "  .count()\\\n",
    "  .sort(\"count\",ascending=False)\\\n",
    "  .withColumnRenamed('count', 'count_total')\n",
    "  \n",
    "cancel_by_year = flight_df\\\n",
    "  .filter(\"cancelled == 1\")\\\n",
    "  .withColumn('year', year('FL_DATE'))\\\n",
    "  .withColumnRenamed(\"year\",\"year_cancel\")\\\n",
    "  .groupby(\"year_cancel\")\\\n",
    "  .count()\\\n",
    "  .sort(\"count\",ascending=False)\\\n",
    "  .withColumnRenamed('count', 'cancel_total')\n",
    "\n",
    "cancel_by_year_percent = flight_by_year\\\n",
    "  .join(\n",
    "    cancel_by_year, \n",
    "    flight_by_year.year == cancel_by_year.year_cancel\n",
    "  )  \n",
    "  \n",
    "cancel_by_year_percent = cancel_by_year_percent\\\n",
    "  .withColumn(\n",
    "    \"delay_percent\",(\n",
    "      cancel_by_year_percent.cancel_total/cancel_by_year_percent.count_total\n",
    "    )*100\n",
    "  )\\\n",
    "  .sort(\"year\",ascending=False)\n",
    "  \n",
    "cancel_by_year_percent_pd = cancel_by_year_percent.toPandas()"
   ]
  },
  {
   "cell_type": "markdown",
   "metadata": {},
   "source": [
    "Plot this using a Tufte-like layout :)"
   ]
  },
  {
   "cell_type": "code",
   "execution_count": 8,
   "metadata": {
    "scrolled": false
   },
   "outputs": [
    {
     "data": {
      "image/png": "[encoded data removed]",
      "text/plain": [
       "<Figure size 432x288 with 1 Axes>"
      ]
     },
     "metadata": {},
     "output_type": "display_data"
    }
   ],
   "source": [
    "sns.set_style(\"white\",{'axes.axisbelow': False})\n",
    "plt.bar( \n",
    "cancel_by_year_percent_pd.year, \n",
    "cancel_by_year_percent_pd.delay_percent,\n",
    "align='center', \n",
    "alpha=0.5,\n",
    "color='#888888',\n",
    ")\n",
    "plt.grid(color='#FFFFFF', linestyle='-', linewidth=0.5, axis='y')\n",
    "plt.title(\n",
    "'Percentage Cancelled Flights by Year',\n",
    "color='grey'\n",
    ")\n",
    "plt.xticks(\n",
    "cancel_by_year_percent_pd.year,\n",
    "color='grey',\n",
    "rotation=45    \n",
    ")\n",
    "plt.yticks(color='grey')\n",
    "sns.despine(left=True,bottom=True)"
   ]
  },
  {
   "cell_type": "markdown",
   "metadata": {},
   "source": [
    "## Cancelled flights per Week of Year\n",
    "This is a more intersting statistic and likely to have more predictive power. Week of Year will be a seasonal and generally the flight patterns will have busier vs less busy times of the year. This will also show the effect that seasonal weather conditions can have on flight cancellations."
   ]
  },
  {
   "cell_type": "code",
   "execution_count": 9,
   "metadata": {
    "scrolled": false
   },
   "outputs": [],
   "source": [
    "flight_by_week = flight_df\\\n",
    "  .withColumn(\"week\",weekofyear(\"FL_DATE\"))\\\n",
    "  .groupby(\"week\")\\\n",
    "  .count()\\\n",
    "  .sort(\"count\",ascending=False)\\\n",
    "  .withColumnRenamed('count', 'count_total')\n",
    "  \n",
    "cancel_by_week = flight_df\\\n",
    "  .filter(\"cancelled == 1\")\\\n",
    "  .withColumn(\"week\",weekofyear(\"FL_DATE\"))\\\n",
    "  .withColumnRenamed(\"week\",\"week_cancel\")\\\n",
    "  .groupby(\"week_cancel\")\\\n",
    "  .count()\\\n",
    "  .sort(\"count\",ascending=False)\\\n",
    "  .withColumnRenamed('count', 'cancel_total')\n",
    "\n",
    "cancel_by_week_percent = flight_by_week\\\n",
    "  .join(\n",
    "    cancel_by_week, \n",
    "    flight_by_week.week == cancel_by_week.week_cancel\n",
    "  )  \n",
    "  \n",
    "cancel_by_week_percent = cancel_by_week_percent\\\n",
    "  .withColumn(\n",
    "    \"delay_percent\",(\n",
    "      cancel_by_week_percent.cancel_total/cancel_by_week_percent.count_total\n",
    "    )*100\n",
    "  )\\\n",
    "  .sort(\"week\",ascending=False)\n",
    "  \n",
    "cancel_by_week_percent_pd = cancel_by_week_percent.toPandas()"
   ]
  },
  {
   "cell_type": "code",
   "execution_count": 10,
   "metadata": {
    "scrolled": false
   },
   "outputs": [
    {
     "data": {
      "image/png": "[encoded data removed]",
      "text/plain": [
       "<Figure size 432x288 with 1 Axes>"
      ]
     },
     "metadata": {},
     "output_type": "display_data"
    }
   ],
   "source": [
    "def plotter():\n",
    "  sns.set_style(\"white\",{'axes.axisbelow': False})\n",
    "  plt.bar( \n",
    "    cancel_by_week_percent_pd.week, \n",
    "    cancel_by_week_percent_pd.delay_percent,\n",
    "    align='center', \n",
    "    alpha=0.5,\n",
    "    color='#888888',\n",
    "  )\n",
    "  plt.grid(color='#FFFFFF', linestyle='-', linewidth=0.5, axis='y')\n",
    "  plt.title(\n",
    "    'Percentage Cancelled Flights by Week',\n",
    "    color='grey'\n",
    "  )\n",
    "  plt.xticks(\n",
    "    color='grey',\n",
    "    rotation=45\n",
    "  )\n",
    "  plt.yticks(color='grey')\n",
    "  sns.despine(left=True,bottom=True)\n",
    "plotter()"
   ]
  },
  {
   "cell_type": "markdown",
   "metadata": {},
   "source": [
    "## Calculating Cancelled Routes\n",
    "To work out if route is likely to cancalled, the easiest way is to create a string that combines the origin and destination. However that works only in a single direction, so calculate for both directions, the code below uses `hash` to create an interger that is the sum of the origin and a hash of the destination. This creates a commutative process for any route.\n",
    "\n",
    "\n",
    "> HANDY TIP\n",
    "> In pyspark you can aggregate inside a `select` function (i.e. use `sum` etc) if its not after a groupby"
   ]
  },
  {
   "cell_type": "code",
   "execution_count": 11,
   "metadata": {
    "scrolled": false
   },
   "outputs": [
    {
     "data": {
      "text/html": [
       "<div>\n",
       "<style scoped>\n",
       "    .dataframe tbody tr th:only-of-type {\n",
       "        vertical-align: middle;\n",
       "    }\n",
       "\n",
       "    .dataframe tbody tr th {\n",
       "        vertical-align: top;\n",
       "    }\n",
       "\n",
       "    .dataframe thead th {\n",
       "        text-align: right;\n",
       "    }\n",
       "</style>\n",
       "<table border=\"1\" class=\"dataframe\">\n",
       "  <thead>\n",
       "    <tr style=\"text-align: right;\">\n",
       "      <th></th>\n",
       "      <th>route</th>\n",
       "      <th>count</th>\n",
       "      <th>count_all</th>\n",
       "      <th>cancelled_percent</th>\n",
       "    </tr>\n",
       "  </thead>\n",
       "  <tbody>\n",
       "    <tr>\n",
       "      <td>0</td>\n",
       "      <td>GRR&lt;&gt;AZO</td>\n",
       "      <td>1</td>\n",
       "      <td>1</td>\n",
       "      <td>100.0</td>\n",
       "    </tr>\n",
       "    <tr>\n",
       "      <td>1</td>\n",
       "      <td>PIA&lt;&gt;MDW</td>\n",
       "      <td>1</td>\n",
       "      <td>1</td>\n",
       "      <td>100.0</td>\n",
       "    </tr>\n",
       "    <tr>\n",
       "      <td>2</td>\n",
       "      <td>DTW&lt;&gt;ILM</td>\n",
       "      <td>1</td>\n",
       "      <td>1</td>\n",
       "      <td>100.0</td>\n",
       "    </tr>\n",
       "    <tr>\n",
       "      <td>3</td>\n",
       "      <td>HPN&lt;&gt;LGA</td>\n",
       "      <td>2</td>\n",
       "      <td>2</td>\n",
       "      <td>100.0</td>\n",
       "    </tr>\n",
       "    <tr>\n",
       "      <td>4</td>\n",
       "      <td>IAD&lt;&gt;ACY</td>\n",
       "      <td>1</td>\n",
       "      <td>1</td>\n",
       "      <td>100.0</td>\n",
       "    </tr>\n",
       "    <tr>\n",
       "      <td>5</td>\n",
       "      <td>RIC&lt;&gt;GSO</td>\n",
       "      <td>1</td>\n",
       "      <td>1</td>\n",
       "      <td>100.0</td>\n",
       "    </tr>\n",
       "    <tr>\n",
       "      <td>6</td>\n",
       "      <td>TVC&lt;&gt;IAD</td>\n",
       "      <td>1</td>\n",
       "      <td>1</td>\n",
       "      <td>100.0</td>\n",
       "    </tr>\n",
       "    <tr>\n",
       "      <td>7</td>\n",
       "      <td>TRI&lt;&gt;CRW</td>\n",
       "      <td>1</td>\n",
       "      <td>1</td>\n",
       "      <td>100.0</td>\n",
       "    </tr>\n",
       "    <tr>\n",
       "      <td>8</td>\n",
       "      <td>TTN&lt;&gt;SFB</td>\n",
       "      <td>2</td>\n",
       "      <td>2</td>\n",
       "      <td>100.0</td>\n",
       "    </tr>\n",
       "    <tr>\n",
       "      <td>9</td>\n",
       "      <td>LBB&lt;&gt;AMA</td>\n",
       "      <td>2</td>\n",
       "      <td>2</td>\n",
       "      <td>100.0</td>\n",
       "    </tr>\n",
       "  </tbody>\n",
       "</table>\n",
       "</div>"
      ],
      "text/plain": [
       "      route  count  count_all  cancelled_percent\n",
       "0  GRR<>AZO      1          1              100.0\n",
       "1  PIA<>MDW      1          1              100.0\n",
       "2  DTW<>ILM      1          1              100.0\n",
       "3  HPN<>LGA      2          2              100.0\n",
       "4  IAD<>ACY      1          1              100.0\n",
       "5  RIC<>GSO      1          1              100.0\n",
       "6  TVC<>IAD      1          1              100.0\n",
       "7  TRI<>CRW      1          1              100.0\n",
       "8  TTN<>SFB      2          2              100.0\n",
       "9  LBB<>AMA      2          2              100.0"
      ]
     },
     "execution_count": 11,
     "metadata": {},
     "output_type": "execute_result"
    }
   ],
   "source": [
    "all_routes = flight_df\\\n",
    "  .withColumn(\"combo_hash\", hash(\"ORIGIN\")+hash(\"DEST\"))\\\n",
    "  .withColumn(\"combo\", concat(col(\"ORIGIN\"),col(\"DEST\")))\\\n",
    "  .groupby(\"combo_hash\")\\\n",
    "  .agg(count(\"combo_hash\").alias(\"count_all\"),first(\"combo\").alias(\"route_alias_all\"))\\\n",
    "  .sort(\"count_all\",ascending=False)\n",
    "\n",
    "cancelled_routes_all = flight_df\\\n",
    "  .filter(\"cancelled == 1\")\\\n",
    "  .withColumn(\"combo_hash\", hash(\"ORIGIN\")+hash(\"DEST\"))\\\n",
    "  .withColumn(\"combo\", concat(col(\"ORIGIN\"),col(\"DEST\")))\\\n",
    "  .groupby(\"combo_hash\")\\\n",
    "  .agg(count(\"combo_hash\").alias(\"count\"),first(\"combo\").alias(\"route_alias\"))\\\n",
    "  .sort(\"count\",ascending=False)  \n",
    "\n",
    "cancelled_routes_percentage = cancelled_routes_all\\\n",
    "  .join(\n",
    "    all_routes,\n",
    "    cancelled_routes_all.combo_hash == all_routes.combo_hash\n",
    "  )\\\n",
    "  .withColumn(\n",
    "    \"route\", \n",
    "    concat(\n",
    "      substring(col(\"route_alias\"),0,3),\n",
    "      lit(\"<>\"),\n",
    "      substring(col(\"route_alias\"),4,6)\n",
    "    )\n",
    "  )\\\n",
    "  .withColumn(\n",
    "    \"cancelled_percent\", \n",
    "    col(\"count\")/col(\"count_all\")*100\n",
    "  )\\\n",
    "  .select(\"route\",\"count\",\"count_all\",\"cancelled_percent\")\\\n",
    "  .sort(\"cancelled_percent\",ascending=False)\n",
    "\n",
    "cancelled_routes_percentage.toPandas().head(10)"
   ]
  },
  {
   "cell_type": "markdown",
   "metadata": {},
   "source": [
    "### Side Note\n",
    "Interestingly most popular routes have similar numbers of cancelled flights in either direction."
   ]
  },
  {
   "cell_type": "code",
   "execution_count": 12,
   "metadata": {},
   "outputs": [
    {
     "data": {
      "text/html": [
       "<div>\n",
       "<style scoped>\n",
       "    .dataframe tbody tr th:only-of-type {\n",
       "        vertical-align: middle;\n",
       "    }\n",
       "\n",
       "    .dataframe tbody tr th {\n",
       "        vertical-align: top;\n",
       "    }\n",
       "\n",
       "    .dataframe thead th {\n",
       "        text-align: right;\n",
       "    }\n",
       "</style>\n",
       "<table border=\"1\" class=\"dataframe\">\n",
       "  <thead>\n",
       "    <tr style=\"text-align: right;\">\n",
       "      <th></th>\n",
       "      <th>combo</th>\n",
       "      <th>count</th>\n",
       "    </tr>\n",
       "  </thead>\n",
       "  <tbody>\n",
       "    <tr>\n",
       "      <td>0</td>\n",
       "      <td>LAXSFO</td>\n",
       "      <td>15135</td>\n",
       "    </tr>\n",
       "    <tr>\n",
       "      <td>1</td>\n",
       "      <td>SFOLAX</td>\n",
       "      <td>14875</td>\n",
       "    </tr>\n",
       "    <tr>\n",
       "      <td>2</td>\n",
       "      <td>LGAORD</td>\n",
       "      <td>13960</td>\n",
       "    </tr>\n",
       "    <tr>\n",
       "      <td>3</td>\n",
       "      <td>ORDLGA</td>\n",
       "      <td>13326</td>\n",
       "    </tr>\n",
       "    <tr>\n",
       "      <td>4</td>\n",
       "      <td>EWRORD</td>\n",
       "      <td>12092</td>\n",
       "    </tr>\n",
       "    <tr>\n",
       "      <td>5</td>\n",
       "      <td>HOUDAL</td>\n",
       "      <td>11698</td>\n",
       "    </tr>\n",
       "    <tr>\n",
       "      <td>6</td>\n",
       "      <td>ORDEWR</td>\n",
       "      <td>11674</td>\n",
       "    </tr>\n",
       "    <tr>\n",
       "      <td>7</td>\n",
       "      <td>BOSLGA</td>\n",
       "      <td>11638</td>\n",
       "    </tr>\n",
       "    <tr>\n",
       "      <td>8</td>\n",
       "      <td>LGABOS</td>\n",
       "      <td>11488</td>\n",
       "    </tr>\n",
       "    <tr>\n",
       "      <td>9</td>\n",
       "      <td>MSPORD</td>\n",
       "      <td>11223</td>\n",
       "    </tr>\n",
       "  </tbody>\n",
       "</table>\n",
       "</div>"
      ],
      "text/plain": [
       "    combo  count\n",
       "0  LAXSFO  15135\n",
       "1  SFOLAX  14875\n",
       "2  LGAORD  13960\n",
       "3  ORDLGA  13326\n",
       "4  EWRORD  12092\n",
       "5  HOUDAL  11698\n",
       "6  ORDEWR  11674\n",
       "7  BOSLGA  11638\n",
       "8  LGABOS  11488\n",
       "9  MSPORD  11223"
      ]
     },
     "execution_count": 12,
     "metadata": {},
     "output_type": "execute_result"
    }
   ],
   "source": [
    "cancelled_by_route_non_combo = flight_df\\\n",
    "  .filter(\"CANCELLED == 1\")\\\n",
    "  .withColumn(\"combo\", concat(col(\"ORIGIN\"),col(\"DEST\")))\\\n",
    "  .groupby(\"combo\")\\\n",
    "  .count()\\\n",
    "  .sort(\"count\",ascending=False)\n",
    "\n",
    "cancelled_by_route_non_combo.toPandas().head(10)"
   ]
  },
  {
   "cell_type": "markdown",
   "metadata": {},
   "source": [
    "## Find Unused Columns\n",
    "Given that our aim is to calculate a prediction for the CANCELLED variable, many of the other columns are no longer relevant. You don't have an actual wheels down time for a cancelled flight. The code below lists the colums that have lots of NA values on cancelled flights."
   ]
  },
  {
   "cell_type": "code",
   "execution_count": 13,
   "metadata": {},
   "outputs": [
    {
     "data": {
      "text/plain": [
       "array(['DEP_TIME', 'ARR_TIME', 'ACTUAL_ELAPSED_TIME', 'CRS_ELAPSED_TIME',\n",
       "       'AIR_TIME', 'ARR_DELAY', 'DEP_DELAY', 'DISTANCE', 'TAXI_IN',\n",
       "       'TAXI_OUT', 'CARRIER_DELAY', 'WEATHER_DELAY', 'NAS_DELAY',\n",
       "       'SECURITY_DELAY', 'LATE_AIRCRAFT_DELAY'], dtype=object)"
      ]
     },
     "execution_count": 13,
     "metadata": {},
     "output_type": "execute_result"
    }
   ],
   "source": [
    "unused_columns = flight_df\\\n",
    "  .filter(\"CANCELLED == 1\")\\\n",
    "  .agg(*(sum(isnull(c).cast('int')).alias(c) for c in flight_df.columns))\n",
    "\n",
    "unused_columns_df = unused_columns.toPandas()\n",
    "unused_columns_df_t = unused_columns_df.transpose()\n",
    "unused_columns_df_t.rename( columns={0 :'count'}, inplace=True )\n",
    "unused_columns_df_t.query('count>0').index.values"
   ]
  },
  {
   "cell_type": "code",
   "execution_count": 14,
   "metadata": {},
   "outputs": [],
   "source": [
    "spark.stop()"
   ]
  },
  {
   "cell_type": "markdown",
   "metadata": {},
   "source": [
    "***If this documentation includes code, including but not limited to, code examples, Cloudera makes this available to you under the terms of the Apache License, Version 2.0, including any required notices.  A copy of the Apache License Version 2.0 can be found [here](https://opensource.org/licenses/Apache-2.0).***"
   ]
  }
 ],
 "metadata": {
  "file_extension": ".py",
  "kernelspec": {
   "display_name": "Python 3",
   "language": "python",
   "name": "python3"
  },
  "language_info": {
   "codemirror_mode": {
    "name": "ipython",
    "version": 3
   },
   "file_extension": ".py",
   "mimetype": "text/x-python",
   "name": "python",
   "nbconvert_exporter": "python",
   "pygments_lexer": "ipython3",
   "version": "3.6.10"
  },
  "mimetype": "text/x-python",
  "name": "python",
  "npconvert_exporter": "python",
  "pygments_lexer": "ipython3",
  "version": 3
 },
 "nbformat": 4,
 "nbformat_minor": 2
}
